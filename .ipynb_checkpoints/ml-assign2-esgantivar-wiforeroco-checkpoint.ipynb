{
 "cells": [
  {
   "cell_type": "markdown",
   "metadata": {},
   "source": [
    "# Bayesian Decision Theory and Parametric Estimation"
   ]
  },
  {
   "cell_type": "markdown",
   "metadata": {},
   "source": [
    "The dataset is a text file with a number of data\n",
    "samples, one per line. Each line has the following structure:\n",
    "$x_{i} y_{i} C_{i}$\n",
    ",\n",
    "where $(x_{i}, y_{i})$ ∈ $\\mathbb{R^{2}}$ and $C_{i}$ ∈ ${0, 1, 2}$.\n"
   ]
  },
  {
   "cell_type": "markdown",
   "metadata": {},
   "source": [
    "### (a) Use the data for classes 1 and 2 to estimate the parameters of a bivariate Gaussian distribution for each class. Assume that the covariance matrix is the same for both classes \n",
    "### (b) Write the parameters of the probability distribution functions for both classes."
   ]
  },
  {
   "cell_type": "markdown",
   "metadata": {
    "collapsed": true
   },
   "source": [
    "### Parameters of a bivariate Gaussian distribution"
   ]
  },
  {
   "cell_type": "code",
   "execution_count": 89,
   "metadata": {
    "collapsed": true
   },
   "outputs": [],
   "source": [
    "%matplotlib inline\n",
    "import matplotlib.pyplot as plt\n",
    "import numpy as np\n",
    "from scipy.stats import multivariate_normal\n",
    "import random"
   ]
  },
  {
   "cell_type": "code",
   "execution_count": 90,
   "metadata": {
    "collapsed": false
   },
   "outputs": [],
   "source": [
    "def readData(fileLocation):\n",
    "    datafile = open(fileLocation)\n",
    "    listadatos = datafile.read().splitlines()\n",
    "    x = [[], [], []]\n",
    "    y = [[], [], []]\n",
    "    N = len(listadatos)\n",
    "    i=0\n",
    "    while N > 0:\n",
    "        linea = listadatos[i].split(\",\")\n",
    "        xi = float(linea[0])\n",
    "        yi = float(linea[1])\n",
    "        ci = int(linea[-1])\n",
    "        x[ci].append(xi)\n",
    "        y[ci].append(yi)\n",
    "        i += 1\n",
    "        N -= 1\n",
    "    #print x,y Todos los valores de x e y para las respectivas clases 0, 1 y 2\n",
    "    return x , y\n",
    "\n",
    "x, y = readData(\"data.txt\")"
   ]
  },
  {
   "cell_type": "markdown",
   "metadata": {},
   "source": [
    "### Medias para la variable $x$ para las clase  $C_{1}$, $C_{2}$  respectivamente"
   ]
  },
  {
   "cell_type": "code",
   "execution_count": 91,
   "metadata": {
    "collapsed": false,
    "scrolled": true
   },
   "outputs": [
    {
     "name": "stdout",
     "output_type": "stream",
     "text": [
      "9.13579929\n",
      "7.00126904\n"
     ]
    }
   ],
   "source": [
    "meanx = []\n",
    "for i in np.arange(1,3):\n",
    "    meanx.append(np.mean(x[i]))\n",
    "    print np.mean(x[i])"
   ]
  },
  {
   "cell_type": "markdown",
   "metadata": {},
   "source": [
    "### Medias para la variable $y$ para las clase $C_{1}$, $C_{2}$  respectivamente"
   ]
  },
  {
   "cell_type": "code",
   "execution_count": 92,
   "metadata": {
    "collapsed": false,
    "scrolled": true
   },
   "outputs": [
    {
     "name": "stdout",
     "output_type": "stream",
     "text": [
      "5.94377044\n",
      "3.58046306\n"
     ]
    }
   ],
   "source": [
    "meany = []\n",
    "for i in np.arange(1,3):\n",
    "    meany.append(np.mean(y[i]))\n",
    "    print np.mean(y[i])"
   ]
  },
  {
   "cell_type": "markdown",
   "metadata": {},
   "source": [
    "### Matriz de covarianza para las clase $C_{1}$, $C_{2}$  respectivamente"
   ]
  },
  {
   "cell_type": "code",
   "execution_count": 93,
   "metadata": {
    "collapsed": false
   },
   "outputs": [
    {
     "name": "stdout",
     "output_type": "stream",
     "text": [
      "[[ 1.55806041 -0.79318373]\n",
      " [-0.79318373  1.02515679]]\n",
      "[[ 1.34995897  0.01292031]\n",
      " [ 0.01292031  1.18777045]]\n"
     ]
    }
   ],
   "source": [
    "cov = []\n",
    "for i in np.arange(1,3):\n",
    "    cov.append(np.cov(x[i], y[i]))\n",
    "    print np.cov(x[i], y[i])\n",
    "    \n",
    "#np.cov?"
   ]
  },
  {
   "cell_type": "markdown",
   "metadata": {},
   "source": [
    "### Distribuciones normales bivariadas para cada clase"
   ]
  },
  {
   "cell_type": "code",
   "execution_count": 94,
   "metadata": {
    "collapsed": false
   },
   "outputs": [
    {
     "name": "stdout",
     "output_type": "stream",
     "text": [
      "[ 10.00534368   5.51213575]\n",
      "[ 8.46962505  5.24413954]\n"
     ]
    }
   ],
   "source": [
    "meanc = []\n",
    "normalBivariate = []\n",
    "for i in range(2):\n",
    "    meanc.append([meanx[i], meany[i]])\n",
    "    normalBivariate.append(multivariate_normal(meanc[i], cov[i]))\n",
    "    print np.random.multivariate_normal(meanc[i], cov[i])\n",
    "    "
   ]
  },
  {
   "cell_type": "code",
   "execution_count": null,
   "metadata": {
    "collapsed": false
   },
   "outputs": [],
   "source": []
  },
  {
   "cell_type": "markdown",
   "metadata": {},
   "source": [
    "### (c) Write a function that calculates the discriminant function for each class."
   ]
  },
  {
   "cell_type": "code",
   "execution_count": 95,
   "metadata": {
    "collapsed": false,
    "scrolled": true
   },
   "outputs": [
    {
     "name": "stdout",
     "output_type": "stream",
     "text": [
      "Class:  1\n",
      "\n",
      "W =  [[-0.5294598  -0.40965333]\n",
      " [-0.40965333 -0.80468701]]\n",
      "w =  [[ 14.54384771]\n",
      " [ 17.05077103]]\n",
      "w0 =  -118.190181723\n",
      "g 1 ( [9.1357992899999996, 5.9437704400000007] ) = -1.08241050095\n",
      "\n",
      "Class:  2\n",
      "\n",
      "W =  [[-0.37042019  0.00402935]\n",
      " [ 0.00402935 -0.42100059]]\n",
      "w =  [[ 5.15796897]\n",
      " [ 2.95833298]]\n",
      "w0 =  -24.6869015176\n",
      "g 2 ( [9.1357992899999996, 5.9437704400000007] ) = -5.33308110934\n",
      "\n",
      "Class:  1\n",
      "\n",
      "W =  [[-0.5294598  -0.40965333]\n",
      " [-0.40965333 -0.80468701]]\n",
      "w =  [[ 14.54384771]\n",
      " [ 17.05077103]]\n",
      "w0 =  -118.190181723\n",
      "g 1 ( [7.0012690399999995, 3.58046306] ) = -12.1221352824\n",
      "\n",
      "Class:  2\n",
      "\n",
      "W =  [[-0.37042019  0.00402935]\n",
      " [ 0.00402935 -0.42100059]]\n",
      "w =  [[ 5.15796897]\n",
      " [ 2.95833298]]\n",
      "w0 =  -24.6869015176\n",
      "g 2 ( [7.0012690399999995, 3.58046306] ) = -1.33463631992\n",
      "\n"
     ]
    }
   ],
   "source": [
    "def discrimination(point, classification):\n",
    "    meanMat = np.transpose(np.matrix(meanc[classification-1]))\n",
    "    pointMat = np.transpose(np.matrix(point))\n",
    "    covMat = np.matrix(cov[classification-1])\n",
    "    \n",
    "    w0 = np.multiply(np.transpose(meanMat)*np.linalg.inv(covMat)*meanMat,-(1.0/2.0)).item(0,0)\n",
    "    w0 = w0 - (1.0/2.0)*np.log(np.linalg.det(covMat))+np.log(1.0/3.0)\n",
    "    \n",
    "    w = np.linalg.inv(covMat)*meanMat\n",
    "    \n",
    "    W = np.multiply(np.linalg.inv(covMat), -(1.0/2.0))\n",
    "    \n",
    "    ret = (np.transpose(pointMat)*W*pointMat).item(0,0)\n",
    "    ret = ret + (np.transpose(w)*pointMat).item(0,0)\n",
    "    print \"Class: \",c\n",
    "    print \"\\nW = \",W\n",
    "    print \"w = \",w\n",
    "    print \"w0 = \",w0\n",
    "    return ret +w0\n",
    "\n",
    "for i in range(2):\n",
    "    for c in range(1,3):\n",
    "        disc = discrimination(meanc[i],c)        \n",
    "        print \"g\",c,\"(\",meanc[i],\") = \"+str(disc)+\"\\n\""
   ]
  },
  {
   "cell_type": "markdown",
   "metadata": {},
   "source": [
    "### (d) Draw a plot, where the regions corresponding to the different classes are shown with different colors. A region corresponding to a class is the set of points where the particular class discriminant function is maximum (decision regions, [Alp10] Sect. 3.4)."
   ]
  },
  {
   "cell_type": "code",
   "execution_count": 96,
   "metadata": {
    "collapsed": false,
    "scrolled": true
   },
   "outputs": [
    {
     "data": {
      "image/png": "[encoded data removed]",
      "text/plain": [
       "<matplotlib.figure.Figure at 0x1ad48cc0>"
      ]
     },
     "metadata": {},
     "output_type": "display_data"
    }
   ],
   "source": [
    "xplot, yplot = np.mgrid[4:12:0.1, 0:10:0.1]\n",
    "\n",
    "pos = np.empty(xplot.shape + (2,))\n",
    "pos[:, :, 0] = xplot; \n",
    "pos[:, :, 1] = yplot\n",
    "fig, ax = plt.subplots()\n",
    "\n",
    "for i in range(2):\n",
    "    ax.contour(xplot, yplot, normalBivariate[i].pdf(pos),cmap=plt.cm.rainbow)\n",
    " "
   ]
  },
  {
   "cell_type": "markdown",
   "metadata": {},
   "source": [
    "### (e) The boundary between both class regions must be a line. Calculate the equation of this line clearly explaining the deduction process. Draw the line along with the regions."
   ]
  },
  {
   "cell_type": "code",
   "execution_count": null,
   "metadata": {
    "collapsed": true
   },
   "outputs": [],
   "source": []
  },
  {
   "cell_type": "markdown",
   "metadata": {},
   "source": [
    "### (f) What happens with the boundary line if we change the prior probabilities of the classes? Illustrate with a graphical example.\n"
   ]
  },
  {
   "cell_type": "code",
   "execution_count": null,
   "metadata": {
    "collapsed": true
   },
   "outputs": [],
   "source": []
  },
  {
   "cell_type": "markdown",
   "metadata": {},
   "source": [
    "# 2. (1.0) Repeat steps (a) to (d) from previous item, but this time:\n",
    "\n",
    "### (a) Use data from the three classes"
   ]
  },
  {
   "cell_type": "code",
   "execution_count": null,
   "metadata": {
    "collapsed": true
   },
   "outputs": [],
   "source": []
  },
  {
   "cell_type": "markdown",
   "metadata": {},
   "source": [
    "### (b) Estimate a different covariance matrix for each class."
   ]
  },
  {
   "cell_type": "code",
   "execution_count": null,
   "metadata": {
    "collapsed": true
   },
   "outputs": [],
   "source": []
  },
  {
   "cell_type": "markdown",
   "metadata": {},
   "source": [
    "# 3. (1.5) Repeat the previous item, but this time:\n",
    "\n",
    "### (a) Use only a portion of the dataset (80% of the samples) to estimate the parameters of the probability distribution functions of each class.\n"
   ]
  },
  {
   "cell_type": "code",
   "execution_count": 97,
   "metadata": {
    "collapsed": false
   },
   "outputs": [],
   "source": [
    "def readData80(fileLocation):\n",
    "    datafile = open(fileLocation)\n",
    "    datoscrudos = datafile.read()\n",
    "    listadatos = datoscrudos.splitlines()\n",
    "    x = [[], [], []]\n",
    "    y = [[], [], []]\n",
    "    xUnclassified = []\n",
    "    yUnclassified = []\n",
    "    classOfUnclassified = []\n",
    "    classifiedQantity = int(float(len(listadatos))*0.8)\n",
    "    for i in range(classifiedQantity):\n",
    "        line = listadatos.pop(random.randint(0,len(listadatos)-1))\n",
    "        listadelinea = line.split(\",\")\n",
    "        xi = float(listadelinea[0])\n",
    "        yi = float(listadelinea[1])\n",
    "        ci = int(listadelinea[2])\n",
    "        x[ci].append(xi)\n",
    "        y[ci].append(yi)\n",
    "        \n",
    "    while len(listadatos)>0:\n",
    "        line = listadatos.pop()\n",
    "        listadelinea = line.split(\",\")\n",
    "        xi = float(listadelinea[0])\n",
    "        yi = float(listadelinea[1])\n",
    "        ci = int(listadelinea[2])\n",
    "        xUnclassified.append(xi)\n",
    "        yUnclassified.append(yi)\n",
    "        classOfUnclassified.append(ci)\n",
    "    return x, y, xUnclassified, yUnclassified, classOfUnclassified\n",
    "\n",
    "x2, y2, xUnclassified, yUnclassified, classOfUnclassified = readData80(\"data.txt\")"
   ]
  },
  {
   "cell_type": "code",
   "execution_count": 98,
   "metadata": {
    "collapsed": false
   },
   "outputs": [
    {
     "name": "stdout",
     "output_type": "stream",
     "text": [
      "meanX: [3.7941377261904767, 9.0602628903225817, 6.9766372675159243]\n",
      "meanY: [5.0892127380952381, 5.9740458387096771, 3.528212719745222]\n",
      "Covariance: [array([[ 0.6707995 ,  0.5594183 ],\n",
      "       [ 0.5594183 ,  1.63790338]]), array([[ 1.59644079, -0.84640529],\n",
      "       [-0.84640529,  1.08842511]]), array([[ 1.31569047,  0.04574506],\n",
      "       [ 0.04574506,  1.26069503]])]\n",
      "[<scipy.stats._multivariate.multivariate_normal_frozen object at 0x000000001AEA9748>, <scipy.stats._multivariate.multivariate_normal_frozen object at 0x000000001B0C0908>, <scipy.stats._multivariate.multivariate_normal_frozen object at 0x000000001AE08518>]\n"
     ]
    }
   ],
   "source": [
    "meanx2 = []\n",
    "meany2 = []\n",
    "covariance2 = []\n",
    "for i in range (3):\n",
    "    meanx2.append(np.mean(x2[i]))\n",
    "    meany2.append(np.mean(y2[i]))\n",
    "    covariance2.append(np.cov(x2[i], y2[i]))\n",
    "    \n",
    "print \"meanX: \"+str(meanx2)\n",
    "print \"meanY: \"+str(meany2)\n",
    "print \"Covariance: \"+str(covariance2)\n",
    "\n",
    "mean2 = []\n",
    "normalBivariate2 = []\n",
    "for i in range(3):\n",
    "    mean2.append([meanx2[i], meany2[i]])\n",
    "    normalBivariate2.append(multivariate_normal(mean2[i], covariance2[i]))\n",
    "    \n",
    "print normalBivariate2"
   ]
  },
  {
   "cell_type": "markdown",
   "metadata": {},
   "source": [
    "### (b) Write a function that calculates the discriminant function for each class, taking into account the possibility of rejection with a cost λ and cost 1 for misclassification ([Alp10] Eq. (3.10)).\n"
   ]
  },
  {
   "cell_type": "code",
   "execution_count": 99,
   "metadata": {
    "collapsed": false
   },
   "outputs": [
    {
     "name": "stdout",
     "output_type": "stream",
     "text": [
      "0\n",
      "-1.0\n",
      "1\n",
      "-1.0\n",
      "2\n",
      "-1.0\n"
     ]
    }
   ],
   "source": [
    "Lambda = 0.01\n",
    "\n",
    "def classify(mean, Lambda):\n",
    "    \n",
    "    risks = []\n",
    "    for c in range(3):\n",
    "        risks.append(1.0-normalBivariate2[c].pdf(mean))\n",
    "        \n",
    "    selectedClass = -1.0\n",
    "    selectedRisk = 1.0-Lambda\n",
    "    \n",
    "    for i in range(3):\n",
    "        if(risks[i]<selectedRisk):\n",
    "            selectedRisk = risks[i]\n",
    "            selectedClass = i\n",
    "    \n",
    "    return selectedClass\n",
    "\n",
    "for i in range(3):\n",
    "    print classify(mean2[i],0.1)\n",
    "    print classify(mean2[i],0.2)"
   ]
  },
  {
   "cell_type": "markdown",
   "metadata": {},
   "source": [
    "### (c) Classify the rest of the dataset that was not used for estimation (20%), using a classifier based on the discriminant functions. Evaluate the results using a confusion matrix.\n"
   ]
  },
  {
   "cell_type": "markdown",
   "metadata": {},
   "source": [
    "#### Clasificaremos los puntos restantes con un clasificador de puntos"
   ]
  },
  {
   "cell_type": "code",
   "execution_count": 105,
   "metadata": {
    "collapsed": false
   },
   "outputs": [],
   "source": [
    "def classifyPoints(points, Lambda):\n",
    "    s = points.shape\n",
    "    ret = []\n",
    "    for i in range(s[0]):\n",
    "        ret.append([])\n",
    "        for j in range(s[1]):\n",
    "            ret[i].append(classify([points[i][j][0], points[i][j][1]], Lambda))\n",
    "    return ret\n",
    "\n",
    "xUnclassifiedArray = np.array([xUnclassified])\n",
    "yUnclassifiedArray = np.array([yUnclassified])\n",
    "pos = np.empty(yUnclassifiedArray.shape + (2,))\n",
    "pos[:, :, 0] = xUnclassifiedArray; pos[:, :, 1] = yUnclassifiedArray\n",
    "classifiedPoints = classifyPoints(pos, Lambda)"
   ]
  },
  {
   "cell_type": "markdown",
   "metadata": {},
   "source": [
    "#### Graficaremos los puntos que clasificamos y sus respectivas regiones"
   ]
  },
  {
   "cell_type": "code",
   "execution_count": 107,
   "metadata": {
    "collapsed": false
   },
   "outputs": [
    {
     "data": {
      "text/plain": [
       "<matplotlib.collections.PathCollection at 0x1ae7f710>"
      ]
     },
     "execution_count": 107,
     "metadata": {},
     "output_type": "execute_result"
    },
    {
     "data": {
      "image/png": "[encoded data removed]",
      "text/plain": [
       "<matplotlib.figure.Figure at 0x1ad21e10>"
      ]
     },
     "metadata": {},
     "output_type": "display_data"
    }
   ],
   "source": [
    "xplot, yplot = np.mgrid[0:14:0.1, 0:10:0.1]\n",
    "pos = np.empty(xplot.shape + (2,))\n",
    "pos[:, :, 0] = xplot; pos[:, :, 1] = yplot\n",
    "fig, ax = plt.subplots()\n",
    "ax.contour(xplot, yplot, classifyPoints(pos, Lambda))\n",
    "ax.scatter(xUnclassifiedArray, yUnclassifiedArray,c=classifiedPoints)"
   ]
  },
  {
   "cell_type": "markdown",
   "metadata": {},
   "source": [
    "#### Resultados de nuestro clasificador"
   ]
  },
  {
   "cell_type": "code",
   "execution_count": 113,
   "metadata": {
    "collapsed": false
   },
   "outputs": [
    {
     "name": "stdout",
     "output_type": "stream",
     "text": [
      "Resultados de Clasificador: \n",
      "[1, 2, 2, 2, 2, 2, 1, 2, 2, 2, 2, 2, 2, 2, 2, 2, 2, 1, 2, 2, 2, 0, 2, 2, 2, 2, 2, 2, 2, 2, 2, 1, 2, 2, 2, 2, 2, 2, 2, 2, 0, 2, 2, 1, 1, 1, -1.0, 1, 1, 1, 1, 1, 1, 1, 1, 1, 1, 1, 1, 1, 1, 1, 1, 1, 1, 1, 1, 1, 1, 1, 1, 1, 1, 1, 1, -1.0, -1.0, 1, 2, 1, 1, 1, 1, 1, 1, 1, 1, 1, 0, 0, 0, 0, 0, 0, 0, 0, 0, 0, 0, 0, 0, -1.0, 0, 0, 0, 0, 0, 0, 0, 0, 0, 0, 0, 0, 0, 0, 0, 0, 0, 0]\n"
     ]
    }
   ],
   "source": [
    "print \"Resultados de Clasificador: \\n\"+ str(classifiedPoints[0])"
   ]
  },
  {
   "cell_type": "markdown",
   "metadata": {},
   "source": [
    "#### Construiremos la matriz de confusión de acuerdo a lo siguiente:"
   ]
  },
  {
   "cell_type": "markdown",
   "metadata": {},
   "source": [
    "<img src=\"imagen.PNG\" style=\"width: 300px;\"/>"
   ]
  },
  {
   "cell_type": "code",
   "execution_count": 115,
   "metadata": {
    "collapsed": false
   },
   "outputs": [
    {
     "name": "stdout",
     "output_type": "stream",
     "text": [
      "[[  1.   3.   0.]\n",
      " [ 31.   0.   2.]\n",
      " [  0.  41.   4.]\n",
      " [  0.   1.  37.]]\n"
     ]
    },
    {
     "name": "stderr",
     "output_type": "stream",
     "text": [
      "C:\\Users\\WistonForero\\Anaconda\\lib\\site-packages\\ipykernel\\__main__.py:5: DeprecationWarning: using a non-integer number instead of an integer will result in an error in the future\n"
     ]
    }
   ],
   "source": [
    "confusionMat = np.zeros((4,3))\n",
    "for i in range(len(classOfUnclassified)):\n",
    "    classifierResult = classifiedPoints[0][i]\n",
    "    realClass = classOfUnclassified[i]\n",
    "    confusionMat[classifierResult+1][realClass] = confusionMat[classifierResult+1][realClass]+1\n",
    "print confusionMat"
   ]
  },
  {
   "cell_type": "markdown",
   "metadata": {},
   "source": [
    "#### Como resultado tendremos la exactitud de nuestros datos"
   ]
  },
  {
   "cell_type": "code",
   "execution_count": 122,
   "metadata": {
    "collapsed": false
   },
   "outputs": [
    {
     "name": "stdout",
     "output_type": "stream",
     "text": [
      "Exactitud para cada clase\n",
      "[0.96875, 0.91111111111111109, 0.86046511627906974]\n",
      "\n",
      "Exactitud Global\n",
      "91.3442075797 %\n"
     ]
    }
   ],
   "source": [
    "pointsInClass = np.sum(confusionMat, axis = 0)\n",
    "exactness = []\n",
    "for i in range(3):\n",
    "    exactness.append(confusionMat[i+1][i]/pointsInClass[i])\n",
    "print \"Exactitud para cada clase\\n\"+str(exactness)+\"\\n\"\n",
    "print \"Exactitud Global\\n\"+str(np.mean(accuracy)*100)+\" %\""
   ]
  },
  {
   "cell_type": "markdown",
   "metadata": {},
   "source": [
    "#### Conclusiones"
   ]
  },
  {
   "cell_type": "markdown",
   "metadata": {},
   "source": [
    "Para nuestros datos tenemos una exactitud del 91,34 % aplicando el 80% de los datos con un lambda de riesgo de 0.01 el cual podemos afirmar que se puede aplicar y utilizar, para su respectivo analisis,"
   ]
  }
 ],
 "metadata": {
  "kernelspec": {
   "display_name": "Python 2",
   "language": "python",
   "name": "python2"
  },
  "language_info": {
   "codemirror_mode": {
    "name": "ipython",
    "version": 2
   },
   "file_extension": ".py",
   "mimetype": "text/x-python",
   "name": "python",
   "nbconvert_exporter": "python",
   "pygments_lexer": "ipython2",
   "version": "2.7.10"
  }
 },
 "nbformat": 4,
 "nbformat_minor": 0
}
