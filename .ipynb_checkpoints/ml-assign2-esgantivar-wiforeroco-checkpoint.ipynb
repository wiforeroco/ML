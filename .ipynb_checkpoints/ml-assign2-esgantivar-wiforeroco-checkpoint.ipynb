{
 "cells": [
  {
   "cell_type": "markdown",
   "metadata": {},
   "source": [
    "# Bayesian Decision Theory and Parametric Estimation"
   ]
  },
  {
   "cell_type": "markdown",
   "metadata": {},
   "source": [
    "The dataset is a text file with a number of data\n",
    "samples, one per line. Each line has the following structure:\n",
    "$x_{i} y_{i} C_{i}$\n",
    ",\n",
    "where $(x_{i}, y_{i})$ ∈ $\\mathbb{R^{2}}$ and $C_{i}$ ∈ ${0, 1, 2}$.\n"
   ]
  },
  {
   "cell_type": "markdown",
   "metadata": {},
   "source": [
    "### (a) Use the data for classes 1 and 2 to estimate the parameters of a bivariate Gaussian distribution for each class. Assume that the covariance matrix is the same for both classes \n",
    "### (b) Write the parameters of the probability distribution functions for both classes."
   ]
  },
  {
   "cell_type": "markdown",
   "metadata": {
    "collapsed": true
   },
   "source": [
    "### Parameters of a bivariate Gaussian distribution"
   ]
  },
  {
   "cell_type": "code",
   "execution_count": 94,
   "metadata": {
    "collapsed": true
   },
   "outputs": [],
   "source": [
    "%matplotlib inline\n",
    "import matplotlib.pyplot as plt\n",
    "import numpy as np\n",
    "from scipy.stats import multivariate_normal\n",
    "import random"
   ]
  },
  {
   "cell_type": "code",
   "execution_count": 26,
   "metadata": {
    "collapsed": false
   },
   "outputs": [],
   "source": [
    "def readData(fileLocation):\n",
    "    datafile = open(fileLocation)\n",
    "    listadatos = datafile.read().splitlines()\n",
    "    x = [[], [], []]\n",
    "    y = [[], [], []]\n",
    "    N = len(listadatos)\n",
    "    i=0\n",
    "    while N > 0:\n",
    "        linea = listadatos[i].split(\",\")\n",
    "        xi = float(linea[0])\n",
    "        yi = float(linea[1])\n",
    "        ci = int(linea[-1])\n",
    "        x[ci].append(xi)\n",
    "        y[ci].append(yi)\n",
    "        i += 1\n",
    "        N -= 1\n",
    "    #print x,y Todos los valores de x e y para las respectivas clases 0, 1 y 2\n",
    "    return x , y\n",
    "\n",
    "x, y = readData(\"data.txt\")"
   ]
  },
  {
   "cell_type": "markdown",
   "metadata": {},
   "source": [
    "### Medias para la variable $x$ para las clase  $C_{1}$, $C_{2}$  respectivamente"
   ]
  },
  {
   "cell_type": "code",
   "execution_count": 53,
   "metadata": {
    "collapsed": false,
    "scrolled": true
   },
   "outputs": [
    {
     "name": "stdout",
     "output_type": "stream",
     "text": [
      "9.13579929\n",
      "7.00126904\n"
     ]
    }
   ],
   "source": [
    "meanx = []\n",
    "for i in np.arange(1,3):\n",
    "    meanx.append(np.mean(x[i]))\n",
    "    print np.mean(x[i])"
   ]
  },
  {
   "cell_type": "markdown",
   "metadata": {},
   "source": [
    "### Medias para la variable $y$ para las clase $C_{1}$, $C_{2}$  respectivamente"
   ]
  },
  {
   "cell_type": "code",
   "execution_count": 52,
   "metadata": {
    "collapsed": false,
    "scrolled": true
   },
   "outputs": [
    {
     "name": "stdout",
     "output_type": "stream",
     "text": [
      "5.94377044\n",
      "3.58046306\n"
     ]
    }
   ],
   "source": [
    "meany = []\n",
    "for i in np.arange(1,3):\n",
    "    meany.append(np.mean(y[i]))\n",
    "    print np.mean(y[i])"
   ]
  },
  {
   "cell_type": "markdown",
   "metadata": {},
   "source": [
    "### Matriz de covarianza para las clase $C_{1}$, $C_{2}$  respectivamente"
   ]
  },
  {
   "cell_type": "code",
   "execution_count": 56,
   "metadata": {
    "collapsed": false
   },
   "outputs": [
    {
     "name": "stdout",
     "output_type": "stream",
     "text": [
      "[[ 1.55806041 -0.79318373]\n",
      " [-0.79318373  1.02515679]]\n",
      "[[ 1.34995897  0.01292031]\n",
      " [ 0.01292031  1.18777045]]\n"
     ]
    }
   ],
   "source": [
    "cov = []\n",
    "for i in np.arange(1,3):\n",
    "    cov.append(np.cov(x[i], y[i]))\n",
    "    print np.cov(x[i], y[i])\n",
    "    \n",
    "#np.cov?"
   ]
  },
  {
   "cell_type": "markdown",
   "metadata": {},
   "source": [
    "### Distribuciones normales bivariadas para cada clase"
   ]
  },
  {
   "cell_type": "code",
   "execution_count": 91,
   "metadata": {
    "collapsed": false
   },
   "outputs": [
    {
     "name": "stdout",
     "output_type": "stream",
     "text": [
      "[ 9.25502113  5.61034666]\n",
      "[ 7.94798697  4.59379999]\n"
     ]
    }
   ],
   "source": [
    "meanc = []\n",
    "normalBivariate = []\n",
    "for i in range(2):\n",
    "    meanc.append([meanx[i], meany[i]])\n",
    "    normalBivariate.append(multivariate_normal(meanc[i], cov[i]))\n",
    "    print np.random.multivariate_normal(meanc[i], cov[i])\n",
    "    "
   ]
  },
  {
   "cell_type": "code",
   "execution_count": 76,
   "metadata": {
    "collapsed": false
   },
   "outputs": [],
   "source": []
  },
  {
   "cell_type": "markdown",
   "metadata": {},
   "source": [
    "### (c) Write a function that calculates the discriminant function for each class."
   ]
  },
  {
   "cell_type": "code",
   "execution_count": null,
   "metadata": {
    "collapsed": true
   },
   "outputs": [],
   "source": []
  },
  {
   "cell_type": "markdown",
   "metadata": {},
   "source": [
    "### (d) Draw a plot, where the regions corresponding to the different classes are shown with different colors. A region corresponding to a class is the set of points where the particular class discriminant function is maximum (decision regions, [Alp10] Sect. 3.4)."
   ]
  },
  {
   "cell_type": "code",
   "execution_count": 105,
   "metadata": {
    "collapsed": false
   },
   "outputs": [
    {
     "data": {
      "image/png": "[encoded data removed]",
      "text/plain": [
       "<matplotlib.figure.Figure at 0x1fb890f0>"
      ]
     },
     "metadata": {},
     "output_type": "display_data"
    }
   ],
   "source": [
    "xplot, yplot = np.mgrid[4:12:0.1, 0:10:0.1]\n",
    "\n",
    "pos = np.empty(xplot.shape + (2,))\n",
    "pos[:, :, 0] = xplot; \n",
    "pos[:, :, 1] = yplot\n",
    "fig, ax = plt.subplots()\n",
    "\n",
    "for i in range(2):\n",
    "    ax.contour(xplot, yplot, normalBivariate[i].pdf(pos))\n",
    " "
   ]
  }
 ],
 "metadata": {
  "kernelspec": {
   "display_name": "Python 2",
   "language": "python",
   "name": "python2"
  },
  "language_info": {
   "codemirror_mode": {
    "name": "ipython",
    "version": 2
   },
   "file_extension": ".py",
   "mimetype": "text/x-python",
   "name": "python",
   "nbconvert_exporter": "python",
   "pygments_lexer": "ipython2",
   "version": "2.7.10"
  }
 },
 "nbformat": 4,
 "nbformat_minor": 0
}
